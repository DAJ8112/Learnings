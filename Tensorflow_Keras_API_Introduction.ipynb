{
  "nbformat": 4,
  "nbformat_minor": 0,
  "metadata": {
    "colab": {
      "provenance": []
    },
    "kernelspec": {
      "name": "python3",
      "display_name": "Python 3"
    },
    "language_info": {
      "name": "python"
    }
  },
  "cells": [
    {
      "cell_type": "markdown",
      "source": [
        "This notebook is a basic how to use the functional API to develop MLP, CNN, RNN"
      ],
      "metadata": {
        "id": "pWRPS6hb27TS"
      }
    },
    {
      "cell_type": "markdown",
      "source": [
        "## **Multilayer Perceptron For Binary Classification**\n",
        "\n",
        "\n",
        "---\n",
        "\n",
        "\n",
        "This model will have:\n",
        "1. 10 inputs\n",
        "2. 3 hidden layers -> 10, 20, 10 neurons with ReLU activation\n",
        "3. 1 output layer -> 1 neuron with sigmoid activation"
      ],
      "metadata": {
        "id": "LLR8JXoUxG2l"
      }
    },
    {
      "cell_type": "code",
      "execution_count": 1,
      "metadata": {
        "id": "L9Ayg93Qw6iX"
      },
      "outputs": [],
      "source": [
        "from keras.utils import plot_model\n",
        "from keras.models import Model\n",
        "from keras.layers import Input, Dense"
      ]
    },
    {
      "cell_type": "code",
      "source": [
        "visible = Input(shape=(10,))\n",
        "hidden1 = Dense(10, activation='relu')(visible)\n",
        "hidden2 = Dense(20, activation='relu')(hidden1)\n",
        "hidden3 = Dense(10, activation='relu')(hidden2)\n",
        "output = Dense(1, activation='sigmoid')(hidden3)\n",
        "\n",
        "model = Model(inputs=visible, outputs=output)"
      ],
      "metadata": {
        "id": "5FwxAbc4yFM5"
      },
      "execution_count": 2,
      "outputs": []
    },
    {
      "cell_type": "code",
      "source": [
        "model.summary()"
      ],
      "metadata": {
        "colab": {
          "base_uri": "https://localhost:8080/"
        },
        "id": "y8ARsivzy5Q0",
        "outputId": "fa9b488a-a1ed-4685-827a-d27d57afa511"
      },
      "execution_count": 3,
      "outputs": [
        {
          "output_type": "stream",
          "name": "stdout",
          "text": [
            "Model: \"model\"\n",
            "_________________________________________________________________\n",
            " Layer (type)                Output Shape              Param #   \n",
            "=================================================================\n",
            " input_1 (InputLayer)        [(None, 10)]              0         \n",
            "                                                                 \n",
            " dense (Dense)               (None, 10)                110       \n",
            "                                                                 \n",
            " dense_1 (Dense)             (None, 20)                220       \n",
            "                                                                 \n",
            " dense_2 (Dense)             (None, 10)                210       \n",
            "                                                                 \n",
            " dense_3 (Dense)             (None, 1)                 11        \n",
            "                                                                 \n",
            "=================================================================\n",
            "Total params: 551 (2.15 KB)\n",
            "Trainable params: 551 (2.15 KB)\n",
            "Non-trainable params: 0 (0.00 Byte)\n",
            "_________________________________________________________________\n"
          ]
        }
      ]
    },
    {
      "cell_type": "code",
      "source": [
        "plot_model(model)"
      ],
      "metadata": {
        "colab": {
          "base_uri": "https://localhost:8080/",
          "height": 466
        },
        "id": "2rW2BRARy8da",
        "outputId": "14a504b8-63f5-4ef3-dcd3-636dd1f68ce4"
      },
      "execution_count": 4,
      "outputs": [
        {
          "output_type": "execute_result",
          "data": {
            "image/png": "[encoded data removed]",
            "text/plain": [
              "<IPython.core.display.Image object>"
            ]
          },
          "metadata": {},
          "execution_count": 4
        }
      ]
    },
    {
      "cell_type": "markdown",
      "source": [
        "## **Convolutional Neural Network For Image Classification**\n",
        "\n",
        "\n",
        "---\n",
        "\n",
        "\n",
        "1. This model receives a black and white image of 64 x 64 as input\n",
        "2. 2 convolutional and 2 pooling layers (for feature extraction)\n",
        "3. fully connected layer (to interpret the features)\n",
        "4. output layer with sigmoid activation for binary classification\n"
      ],
      "metadata": {
        "id": "t1TEMSG_zgSV"
      }
    },
    {
      "cell_type": "code",
      "source": [
        "from keras.utils import plot_model\n",
        "from keras.models import Model\n",
        "from keras.layers import Input, Dense, Conv2D, MaxPooling2D"
      ],
      "metadata": {
        "id": "B34EGz8-zKlV"
      },
      "execution_count": 6,
      "outputs": []
    },
    {
      "cell_type": "code",
      "source": [
        "visible = Input(shape=(64, 64, 1))\n",
        "\n",
        "conv1 = Conv2D(32, kernel_size=4, activation='relu')(visible)\n",
        "pool1 = MaxPooling2D(pool_size=(2, 2))(conv1)\n",
        "\n",
        "conv2 = Conv2D(16, kernel_size=4, activation='relu')(pool1)\n",
        "pool2 = MaxPooling2D(pool_size=(2, 2))(conv2)\n",
        "\n",
        "hidden1 = Dense(10, activation='relu')(pool2)\n",
        "\n",
        "output = Dense(1, activation='sigmoid')(hidden1)\n",
        "\n",
        "model = Model(inputs=visible, outputs=output)"
      ],
      "metadata": {
        "id": "hk3ge-PR0Vcg"
      },
      "execution_count": 7,
      "outputs": []
    },
    {
      "cell_type": "code",
      "source": [
        "model.summary()"
      ],
      "metadata": {
        "colab": {
          "base_uri": "https://localhost:8080/"
        },
        "id": "oKEWdZIg1fw4",
        "outputId": "44059c58-bee1-4c05-a9d6-04d574a448a6"
      },
      "execution_count": 8,
      "outputs": [
        {
          "output_type": "stream",
          "name": "stdout",
          "text": [
            "Model: \"model_1\"\n",
            "_________________________________________________________________\n",
            " Layer (type)                Output Shape              Param #   \n",
            "=================================================================\n",
            " input_2 (InputLayer)        [(None, 64, 64, 1)]       0         \n",
            "                                                                 \n",
            " conv2d (Conv2D)             (None, 61, 61, 32)        544       \n",
            "                                                                 \n",
            " max_pooling2d (MaxPooling2  (None, 30, 30, 32)        0         \n",
            " D)                                                              \n",
            "                                                                 \n",
            " conv2d_1 (Conv2D)           (None, 27, 27, 16)        8208      \n",
            "                                                                 \n",
            " max_pooling2d_1 (MaxPoolin  (None, 13, 13, 16)        0         \n",
            " g2D)                                                            \n",
            "                                                                 \n",
            " dense_4 (Dense)             (None, 13, 13, 10)        170       \n",
            "                                                                 \n",
            " dense_5 (Dense)             (None, 13, 13, 1)         11        \n",
            "                                                                 \n",
            "=================================================================\n",
            "Total params: 8933 (34.89 KB)\n",
            "Trainable params: 8933 (34.89 KB)\n",
            "Non-trainable params: 0 (0.00 Byte)\n",
            "_________________________________________________________________\n"
          ]
        }
      ]
    },
    {
      "cell_type": "code",
      "source": [
        "plot_model(model)"
      ],
      "metadata": {
        "colab": {
          "base_uri": "https://localhost:8080/",
          "height": 661
        },
        "id": "mV4glojF1iKx",
        "outputId": "baf3c7f8-7fa6-4183-e49e-b885798d0d60"
      },
      "execution_count": 9,
      "outputs": [
        {
          "output_type": "execute_result",
          "data": {
            "image/png": "[encoded data removed]",
            "text/plain": [
              "<IPython.core.display.Image object>"
            ]
          },
          "metadata": {},
          "execution_count": 9
        }
      ]
    },
    {
      "cell_type": "markdown",
      "source": [
        "## **Recurrent Neural Network For Sequence Classification**\n",
        "\n",
        "\n",
        "---\n",
        "\n",
        "\n",
        "Long Short Term Memory RNN (LSTM)\n",
        "1. **Input** - This model expects 100 times steps of one feature\n",
        "2. 1 LSTM Layer (To extract features from the sequence)\n",
        "3. fully connected layer (to interpret the LSTM output)\n",
        "4. **output** layer with sigmoid activation for binary predictions\n"
      ],
      "metadata": {
        "id": "REQlyt4p1t4J"
      }
    },
    {
      "cell_type": "code",
      "source": [
        "from keras.utils import plot_model\n",
        "from keras.models import Model\n",
        "from keras.layers import Input, Dense, LSTM"
      ],
      "metadata": {
        "id": "vgdIPkq_1on2"
      },
      "execution_count": 10,
      "outputs": []
    },
    {
      "cell_type": "code",
      "source": [
        "visible = Input(shape=(100, 1))\n",
        "\n",
        "hidden1 = LSTM(10)(visible)\n",
        "hidden2 = Dense(10, activation='relu')(hidden1)\n",
        "output = Dense(1, activation='sigmoid')(hidden2)\n",
        "\n",
        "model = Model(inputs=visible, outputs=output)"
      ],
      "metadata": {
        "id": "Kim6w0oa2dLY"
      },
      "execution_count": 12,
      "outputs": []
    },
    {
      "cell_type": "code",
      "source": [
        "model.summary()"
      ],
      "metadata": {
        "colab": {
          "base_uri": "https://localhost:8080/"
        },
        "id": "QgELQTLP2gG5",
        "outputId": "4abc13ae-9e9c-4085-957a-cbeb1c39fc8d"
      },
      "execution_count": 13,
      "outputs": [
        {
          "output_type": "stream",
          "name": "stdout",
          "text": [
            "Model: \"model_2\"\n",
            "_________________________________________________________________\n",
            " Layer (type)                Output Shape              Param #   \n",
            "=================================================================\n",
            " input_4 (InputLayer)        [(None, 100, 1)]          0         \n",
            "                                                                 \n",
            " lstm (LSTM)                 (None, 10)                480       \n",
            "                                                                 \n",
            " dense_6 (Dense)             (None, 10)                110       \n",
            "                                                                 \n",
            " dense_7 (Dense)             (None, 1)                 11        \n",
            "                                                                 \n",
            "=================================================================\n",
            "Total params: 601 (2.35 KB)\n",
            "Trainable params: 601 (2.35 KB)\n",
            "Non-trainable params: 0 (0.00 Byte)\n",
            "_________________________________________________________________\n"
          ]
        }
      ]
    },
    {
      "cell_type": "code",
      "source": [
        "plot_model(model)"
      ],
      "metadata": {
        "colab": {
          "base_uri": "https://localhost:8080/",
          "height": 369
        },
        "id": "PpzqGcsI2zI-",
        "outputId": "6bdd967d-fafe-4217-b5c5-2cf43ee39b72"
      },
      "execution_count": 14,
      "outputs": [
        {
          "output_type": "execute_result",
          "data": {
            "image/png": "[encoded data removed]",
            "text/plain": [
              "<IPython.core.display.Image object>"
            ]
          },
          "metadata": {},
          "execution_count": 14
        }
      ]
    }
  ]
}